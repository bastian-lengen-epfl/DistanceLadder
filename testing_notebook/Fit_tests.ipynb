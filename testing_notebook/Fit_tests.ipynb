{
 "cells": [
  {
   "cell_type": "code",
   "execution_count": 1,
   "id": "cda4b48b",
   "metadata": {},
   "outputs": [
    {
     "name": "stdout",
     "output_type": "stream",
     "text": [
      "/Users/bastianlengen/Desktop/DistanceLadder\n"
     ]
    }
   ],
   "source": [
    "### Make sure to be in the working dir, usually .. from the testing_notebook directory\n",
    "cd /Users/bastianlengen/Desktop/DistanceLadder/"
   ]
  },
  {
   "cell_type": "code",
   "execution_count": 5,
   "id": "c592840c",
   "metadata": {
    "scrolled": true
   },
   "outputs": [
    {
     "name": "stdout",
     "output_type": "stream",
     "text": [
      "Loading Cepheids & Cepheids anchors...\n",
      "Loading MW Cepheids...\n",
      "Loading SNe for the Cepheids-host galaxies...\n",
      "Loading SNe for the aB fit...\n"
     ]
    }
   ],
   "source": [
    "### Load and run\n",
    "import pandas as pd\n",
    "import numpy as np\n",
    "from load_data import load_data\n",
    "from fitting import fit_distance_ladder\n",
    "\n",
    "DF_dict, SNe_other = load_data()\n",
    "y, q_dict, L = fit_distance_ladder(DF_dict)"
   ]
  },
  {
   "cell_type": "code",
   "execution_count": 7,
   "id": "f34a9789",
   "metadata": {},
   "outputs": [],
   "source": [
    "### You can now do some tests\n",
    "pass"
   ]
  },
  {
   "cell_type": "code",
   "execution_count": null,
   "id": "ae236cda",
   "metadata": {},
   "outputs": [],
   "source": []
  }
 ],
 "metadata": {
  "kernelspec": {
   "display_name": "Python 3",
   "language": "python",
   "name": "python3"
  },
  "language_info": {
   "codemirror_mode": {
    "name": "ipython",
    "version": 3
   },
   "file_extension": ".py",
   "mimetype": "text/x-python",
   "name": "python",
   "nbconvert_exporter": "python",
   "pygments_lexer": "ipython3",
   "version": "3.8.3"
  }
 },
 "nbformat": 4,
 "nbformat_minor": 5
}
