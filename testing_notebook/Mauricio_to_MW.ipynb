{
 "cells": [
  {
   "cell_type": "code",
   "execution_count": 10,
   "id": "4f9bac64",
   "metadata": {},
   "outputs": [],
   "source": [
    "import pandas as pd\n",
    "import numpy as np"
   ]
  },
  {
   "cell_type": "code",
   "execution_count": 31,
   "id": "f937fda9",
   "metadata": {
    "scrolled": true
   },
   "outputs": [],
   "source": [
    "tmp = pd.read_csv('../Data/H1PStars/Cepheids_MW.csv')\n",
    "Cepheids_MW = pd.DataFrame()\n",
    "Cepheids_MW['Gal'] = ['MW'] * len(tmp)\n",
    "Cepheids_MW['logP'] = np.log10(tmp['Period'])\n",
    "Cepheids_MW['mW'] = tmp['mh']\n",
    "Cepheids_MW['sig_mW'] = tmp['mh_error']\n",
    "Cepheids_MW['Fe/H'] = tmp['FE/H']\n",
    "Cepheids_MW['z'] = 0\n",
    "Cepheids_MW['V-I'] = np.nan # Don't use K-corrections !!!\n",
    "Cepheids_MW['pi'] = tmp['Parallax']\n",
    "Cepheids_MW['sig_pi'] = tmp['Parallax_error']\n",
    "# Remove Cepheids with no metallicity measurment \n",
    "Cepheids_MW = Cepheids_MW[~np.isnan(Cepheids_MW['Fe/H'])].reset_index(drop=True)"
   ]
  },
  {
   "cell_type": "code",
   "execution_count": 32,
   "id": "0c6ffa83",
   "metadata": {
    "scrolled": true
   },
   "outputs": [],
   "source": [
    "#ADD to those of Riess, if commented will erase \n",
    "'''\n",
    "tmp = pd.read_csv('../Data/Cepheids_MW.csv', sep=',')\n",
    "Cepheids_MW = pd.concat([tmp, Cepheids_MW]).reset_index(drop=True)\n",
    "'''\n",
    "# Save it\n",
    "Cepheids_MW.to_csv('../Data/Cepheids_MW.csv',index=False)"
   ]
  },
  {
   "cell_type": "code",
   "execution_count": 14,
   "id": "b3e5302f",
   "metadata": {},
   "outputs": [
    {
     "name": "stderr",
     "output_type": "stream",
     "text": [
      "WARNING: VerifyWarning: It is strongly recommended that column names contain only upper and lower-case ASCII letters, digits, or underscores for maximum compatibility with other software (got '[O/H]'). [astropy.io.fits.column]\n"
     ]
    },
    {
     "data": {
      "text/html": [
       "<div>\n",
       "<style scoped>\n",
       "    .dataframe tbody tr th:only-of-type {\n",
       "        vertical-align: middle;\n",
       "    }\n",
       "\n",
       "    .dataframe tbody tr th {\n",
       "        vertical-align: top;\n",
       "    }\n",
       "\n",
       "    .dataframe thead th {\n",
       "        text-align: right;\n",
       "    }\n",
       "</style>\n",
       "<table border=\"1\" class=\"dataframe\">\n",
       "  <thead>\n",
       "    <tr style=\"text-align: right;\">\n",
       "      <th></th>\n",
       "      <th>Gal</th>\n",
       "      <th>logP</th>\n",
       "      <th>mW</th>\n",
       "      <th>sig_mW</th>\n",
       "      <th>Fe/H</th>\n",
       "    </tr>\n",
       "  </thead>\n",
       "  <tbody>\n",
       "    <tr>\n",
       "      <th>0</th>\n",
       "      <td>M101</td>\n",
       "      <td>1.254064</td>\n",
       "      <td>20.55</td>\n",
       "      <td>0.30</td>\n",
       "      <td>6.134</td>\n",
       "    </tr>\n",
       "    <tr>\n",
       "      <th>1</th>\n",
       "      <td>M101</td>\n",
       "      <td>0.729003</td>\n",
       "      <td>22.29</td>\n",
       "      <td>0.57</td>\n",
       "      <td>6.118</td>\n",
       "    </tr>\n",
       "    <tr>\n",
       "      <th>2</th>\n",
       "      <td>M101</td>\n",
       "      <td>1.074085</td>\n",
       "      <td>20.80</td>\n",
       "      <td>0.32</td>\n",
       "      <td>6.113</td>\n",
       "    </tr>\n",
       "    <tr>\n",
       "      <th>3</th>\n",
       "      <td>M101</td>\n",
       "      <td>1.173769</td>\n",
       "      <td>20.77</td>\n",
       "      <td>0.32</td>\n",
       "      <td>6.105</td>\n",
       "    </tr>\n",
       "    <tr>\n",
       "      <th>4</th>\n",
       "      <td>M101</td>\n",
       "      <td>1.074085</td>\n",
       "      <td>21.22</td>\n",
       "      <td>0.45</td>\n",
       "      <td>6.136</td>\n",
       "    </tr>\n",
       "    <tr>\n",
       "      <th>...</th>\n",
       "      <td>...</td>\n",
       "      <td>...</td>\n",
       "      <td>...</td>\n",
       "      <td>...</td>\n",
       "      <td>...</td>\n",
       "    </tr>\n",
       "    <tr>\n",
       "      <th>1481</th>\n",
       "      <td>M31</td>\n",
       "      <td>1.633973</td>\n",
       "      <td>13.26</td>\n",
       "      <td>0.15</td>\n",
       "      <td>5.900</td>\n",
       "    </tr>\n",
       "    <tr>\n",
       "      <th>1482</th>\n",
       "      <td>M31</td>\n",
       "      <td>1.640879</td>\n",
       "      <td>13.97</td>\n",
       "      <td>0.15</td>\n",
       "      <td>5.900</td>\n",
       "    </tr>\n",
       "    <tr>\n",
       "      <th>1483</th>\n",
       "      <td>M31</td>\n",
       "      <td>1.685294</td>\n",
       "      <td>12.46</td>\n",
       "      <td>0.15</td>\n",
       "      <td>5.900</td>\n",
       "    </tr>\n",
       "    <tr>\n",
       "      <th>1484</th>\n",
       "      <td>M31</td>\n",
       "      <td>1.750045</td>\n",
       "      <td>12.89</td>\n",
       "      <td>0.15</td>\n",
       "      <td>5.900</td>\n",
       "    </tr>\n",
       "    <tr>\n",
       "      <th>1485</th>\n",
       "      <td>M31</td>\n",
       "      <td>1.892095</td>\n",
       "      <td>12.41</td>\n",
       "      <td>0.15</td>\n",
       "      <td>5.900</td>\n",
       "    </tr>\n",
       "  </tbody>\n",
       "</table>\n",
       "<p>1486 rows × 5 columns</p>\n",
       "</div>"
      ],
      "text/plain": [
       "        Gal      logP     mW  sig_mW   Fe/H\n",
       "0     M101   1.254064  20.55    0.30  6.134\n",
       "1     M101   0.729003  22.29    0.57  6.118\n",
       "2     M101   1.074085  20.80    0.32  6.113\n",
       "3     M101   1.173769  20.77    0.32  6.105\n",
       "4     M101   1.074085  21.22    0.45  6.136\n",
       "...     ...       ...    ...     ...    ...\n",
       "1481  M31    1.633973  13.26    0.15  5.900\n",
       "1482  M31    1.640879  13.97    0.15  5.900\n",
       "1483  M31    1.685294  12.46    0.15  5.900\n",
       "1484  M31    1.750045  12.89    0.15  5.900\n",
       "1485  M31    1.892095  12.41    0.15  5.900\n",
       "\n",
       "[1486 rows x 5 columns]"
      ]
     },
     "execution_count": 14,
     "metadata": {},
     "output_type": "execute_result"
    }
   ],
   "source": [
    "with fits.open('../data_static/Riess/Cepheids_R16.fits') as hdul:\n",
    "    tmp = Table(hdul[1].data)\n",
    "Cepheids = pd.DataFrame()\n",
    "Cepheids['Gal'] = tmp['Gal']\n",
    "Cepheids['logP'] = np.log10(tmp['Per'])\n",
    "Cepheids['mW'] = tmp['F160W'] - 2 * tmp['V-I']\n",
    "Cepheids['sig_mW'] = tmp['sigTot']\n",
    "Cepheids['Fe/H'] = tmp['[O/H]']-3\n",
    "Cepheids"
   ]
  },
  {
   "cell_type": "code",
   "execution_count": 17,
   "id": "36a5c472",
   "metadata": {},
   "outputs": [],
   "source": [
    "import pickle"
   ]
  },
  {
   "cell_type": "code",
   "execution_count": 19,
   "id": "50eb0f42",
   "metadata": {},
   "outputs": [
    {
     "data": {
      "text/plain": [
       "{'mu_M101': array([2.91087651e+01, 2.49554444e-02]),\n",
       " 'mu_N1015': array([32.57859391,  0.06732825]),\n",
       " 'mu_N1309': array([32.54530789,  0.04496074]),\n",
       " 'mu_N1365': array([31.34884327,  0.03354354]),\n",
       " 'mu_N1448': array([3.13402293e+01, 2.96446036e-02]),\n",
       " 'mu_N2442': array([31.54337335,  0.04310065]),\n",
       " 'mu_N3021': array([32.39400941,  0.07397011]),\n",
       " 'mu_N3370': array([32.10956213,  0.03849643]),\n",
       " 'mu_N3447': array([3.19190426e+01, 3.01716498e-02]),\n",
       " 'mu_N3972': array([31.65607455,  0.05863024]),\n",
       " 'mu_N3982': array([31.70783655,  0.05725077]),\n",
       " 'mu_N4038': array([31.54025248,  0.06156276]),\n",
       " 'mu_N4424': array([30.95943929,  0.04961756]),\n",
       " 'mu_N4536': array([30.91970029,  0.03873843]),\n",
       " 'mu_N4639': array([31.64577543,  0.06079681]),\n",
       " 'mu_N5584': array([31.80639836,  0.03526627]),\n",
       " 'mu_N5917': array([32.28254067,  0.07788174]),\n",
       " 'mu_N7250': array([31.56326617,  0.06539637]),\n",
       " 'mu_U9391': array([32.91025144,  0.05216974]),\n",
       " 'Dmu_N4258': array([-0.02722347,  0.01796747]),\n",
       " 'Dmu_LMC': array([0.05524491, 0.01820201]),\n",
       " 'MW': array([-5.91971708,  0.01339433]),\n",
       " 'MB': array([-19.28758583,   0.02922596]),\n",
       " 'b': array([-3.28926898,  0.01577237]),\n",
       " 'Zw': array([-0.15819436,  0.04432752]),\n",
       " 'zp': array([-0.01445657,  0.00423588]),\n",
       " 'mu_M66': array([30.20660807,  0.04477042]),\n",
       " 'mu_M96': array([30.18934226,  0.03696676]),\n",
       " 'mu_N1316': array([31.28243989,  0.04638446]),\n",
       " 'mu_N1404': array([31.30742361,  0.05912134]),\n",
       " 'mu_N4526': array([30.96505773,  0.0366747 ]),\n",
       " 'mu_N5643': array([30.48522972,  0.08510258]),\n",
       " 'MTRGB': array([-3.98215036,  0.02583072]),\n",
       " '5logH0': array([9.28497801, 0.03025077]),\n",
       " 'H0': [71.94416908338889, 1.0022538887931622],\n",
       " 'chi2/dof': [1.2159204456799673, 0]}"
      ]
     },
     "execution_count": 19,
     "metadata": {},
     "output_type": "execute_result"
    }
   ],
   "source": [
    "x = open('../work_dir/name/q_dict.pickle','rb')\n",
    "pickle.load(x)"
   ]
  },
  {
   "cell_type": "code",
   "execution_count": null,
   "id": "f727a482",
   "metadata": {},
   "outputs": [],
   "source": []
  }
 ],
 "metadata": {
  "kernelspec": {
   "display_name": "Python 3 (ipykernel)",
   "language": "python",
   "name": "python3"
  },
  "language_info": {
   "codemirror_mode": {
    "name": "ipython",
    "version": 3
   },
   "file_extension": ".py",
   "mimetype": "text/x-python",
   "name": "python",
   "nbconvert_exporter": "python",
   "pygments_lexer": "ipython3",
   "version": "3.9.10"
  }
 },
 "nbformat": 4,
 "nbformat_minor": 5
}
