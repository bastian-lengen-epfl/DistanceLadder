{
 "cells": [
  {
   "cell_type": "code",
   "execution_count": 2,
   "id": "4f9bac64",
   "metadata": {},
   "outputs": [],
   "source": [
    "import pandas as pd\n",
    "import numpy as np"
   ]
  },
  {
   "cell_type": "code",
   "execution_count": 31,
   "id": "f937fda9",
   "metadata": {
    "scrolled": true
   },
   "outputs": [],
   "source": [
    "tmp = pd.read_csv('../Data/H1PStars/Cepheids_MW.csv')\n",
    "Cepheids_MW = pd.DataFrame()\n",
    "Cepheids_MW['Gal'] = ['MW'] * len(tmp)\n",
    "Cepheids_MW['logP'] = np.log10(tmp['Period'])\n",
    "Cepheids_MW['mW'] = tmp['mh']\n",
    "Cepheids_MW['sig_mW'] = tmp['mh_error']\n",
    "Cepheids_MW['Fe/H'] = tmp['FE/H']\n",
    "Cepheids_MW['z'] = 0\n",
    "Cepheids_MW['V-I'] = np.nan # Don't use K-corrections !!!\n",
    "Cepheids_MW['pi'] = tmp['Parallax']\n",
    "Cepheids_MW['sig_pi'] = tmp['Parallax_error']\n",
    "# Remove Cepheids with no metallicity measurment \n",
    "Cepheids_MW = Cepheids_MW[~np.isnan(Cepheids_MW['Fe/H'])].reset_index(drop=True)"
   ]
  },
  {
   "cell_type": "code",
   "execution_count": 32,
   "id": "0c6ffa83",
   "metadata": {
    "scrolled": true
   },
   "outputs": [],
   "source": [
    "#ADD to those of Riess, if commented will erase \n",
    "'''\n",
    "tmp = pd.read_csv('../Data/Cepheids_MW.csv', sep=',')\n",
    "Cepheids_MW = pd.concat([tmp, Cepheids_MW]).reset_index(drop=True)\n",
    "'''\n",
    "# Save it\n",
    "Cepheids_MW.to_csv('../Data/Cepheids_MW.csv',index=False)"
   ]
  },
  {
   "cell_type": "code",
   "execution_count": 5,
   "id": "a195658f",
   "metadata": {},
   "outputs": [
    {
     "name": "stderr",
     "output_type": "stream",
     "text": [
      "WARNING: VerifyWarning: It is strongly recommended that column names contain only upper and lower-case ASCII letters, digits, or underscores for maximum compatibility with other software (got '[O/H]'). [astropy.io.fits.column]\n"
     ]
    }
   ],
   "source": [
    "from astropy.io import fits\n",
    "from astropy.table import Table\n",
    "\n",
    "with fits.open('../data_static/Riess/Cepheids_R16.fits') as hdul:\n",
    "    tmp = Table(hdul[1].data)\n",
    "Cepheids = pd.DataFrame()\n",
    "Cepheids['Gal'] = tmp['Gal']\n",
    "Cepheids['logP'] = np.log10(tmp['Per'])\n",
    "Cepheids['mW'] = tmp['F160W'] - 2 * tmp['V-I']\n",
    "Cepheids['sig_mW'] = tmp['sigTot']\n",
    "Cepheids['Fe/H'] = tmp['[O/H]']-3\n",
    "list_MW = Cepheids['Gal'].drop_duplicates().reset_index(drop=True) # List of MW dataset"
   ]
  }
 ],
 "metadata": {
  "kernelspec": {
   "display_name": "Python 3 (ipykernel)",
   "language": "python",
   "name": "python3"
  },
  "language_info": {
   "codemirror_mode": {
    "name": "ipython",
    "version": 3
   },
   "file_extension": ".py",
   "mimetype": "text/x-python",
   "name": "python",
   "nbconvert_exporter": "python",
   "pygments_lexer": "ipython3",
   "version": "3.9.10"
  }
 },
 "nbformat": 4,
 "nbformat_minor": 5
}
