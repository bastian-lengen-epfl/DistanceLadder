{
 "cells": [
  {
   "cell_type": "code",
   "execution_count": 2,
   "id": "4f9bac64",
   "metadata": {},
   "outputs": [],
   "source": [
    "import pandas as pd\n",
    "import numpy as np"
   ]
  },
  {
   "cell_type": "code",
   "execution_count": 31,
   "id": "f937fda9",
   "metadata": {
    "scrolled": true
   },
   "outputs": [],
   "source": [
    "tmp = pd.read_csv('../Data/H1PStars/Cepheids_MW.csv')\n",
    "Cepheids_MW = pd.DataFrame()\n",
    "Cepheids_MW['Gal'] = ['MW'] * len(tmp)\n",
    "Cepheids_MW['logP'] = np.log10(tmp['Period'])\n",
    "Cepheids_MW['mW'] = tmp['mh']\n",
    "Cepheids_MW['sig_mW'] = tmp['mh_error']\n",
    "Cepheids_MW['Fe/H'] = tmp['FE/H']\n",
    "Cepheids_MW['z'] = 0\n",
    "Cepheids_MW['V-I'] = np.nan # Don't use K-corrections !!!\n",
    "Cepheids_MW['pi'] = tmp['Parallax']\n",
    "Cepheids_MW['sig_pi'] = tmp['Parallax_error']\n",
    "# Remove Cepheids with no metallicity measurment \n",
    "Cepheids_MW = Cepheids_MW[~np.isnan(Cepheids_MW['Fe/H'])].reset_index(drop=True)"
   ]
  },
  {
   "cell_type": "code",
   "execution_count": 32,
   "id": "0c6ffa83",
   "metadata": {
    "scrolled": true
   },
   "outputs": [],
   "source": [
    "#ADD to those of Riess, if commented will erase \n",
    "'''\n",
    "tmp = pd.read_csv('../Data/Cepheids_MW.csv', sep=',')\n",
    "Cepheids_MW = pd.concat([tmp, Cepheids_MW]).reset_index(drop=True)\n",
    "'''\n",
    "# Save it\n",
    "Cepheids_MW.to_csv('../Data/Cepheids_MW.csv',index=False)"
   ]
  }
 ],
 "metadata": {
  "kernelspec": {
   "display_name": "Python 3",
   "language": "python",
   "name": "python3"
  },
  "language_info": {
   "codemirror_mode": {
    "name": "ipython",
    "version": 3
   },
   "file_extension": ".py",
   "mimetype": "text/x-python",
   "name": "python",
   "nbconvert_exporter": "python",
   "pygments_lexer": "ipython3",
   "version": "3.8.3"
  }
 },
 "nbformat": 4,
 "nbformat_minor": 5
}
